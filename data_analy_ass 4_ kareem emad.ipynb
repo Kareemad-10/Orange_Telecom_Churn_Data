{
 "cells": [
  {
   "cell_type": "code",
   "execution_count": 1,
   "metadata": {
    "slideshow": {
     "slide_type": "slide"
    }
   },
   "outputs": [],
   "source": [
    "import pandas as pd\n",
    "import matplotlib.pyplot as plt\n",
    "%matplotlib inline"
   ]
  },
  {
   "cell_type": "code",
   "execution_count": 2,
   "metadata": {
    "slideshow": {
     "slide_type": "slide"
    }
   },
   "outputs": [
    {
     "data": {
      "text/html": [
       "<div>\n",
       "<style scoped>\n",
       "    .dataframe tbody tr th:only-of-type {\n",
       "        vertical-align: middle;\n",
       "    }\n",
       "\n",
       "    .dataframe tbody tr th {\n",
       "        vertical-align: top;\n",
       "    }\n",
       "\n",
       "    .dataframe thead th {\n",
       "        text-align: right;\n",
       "    }\n",
       "</style>\n",
       "<table border=\"1\" class=\"dataframe\">\n",
       "  <thead>\n",
       "    <tr style=\"text-align: right;\">\n",
       "      <th></th>\n",
       "      <th>state</th>\n",
       "      <th>account_length</th>\n",
       "      <th>area_code</th>\n",
       "      <th>phone_number</th>\n",
       "      <th>intl_plan</th>\n",
       "      <th>voice_mail_plan</th>\n",
       "      <th>number_vmail_messages</th>\n",
       "      <th>total_day_minutes</th>\n",
       "      <th>total_day_calls</th>\n",
       "      <th>total_day_charge</th>\n",
       "      <th>...</th>\n",
       "      <th>total_eve_calls</th>\n",
       "      <th>total_eve_charge</th>\n",
       "      <th>total_night_minutes</th>\n",
       "      <th>total_night_calls</th>\n",
       "      <th>total_night_charge</th>\n",
       "      <th>total_intl_minutes</th>\n",
       "      <th>total_intl_calls</th>\n",
       "      <th>total_intl_charge</th>\n",
       "      <th>number_customer_service_calls</th>\n",
       "      <th>churned</th>\n",
       "    </tr>\n",
       "  </thead>\n",
       "  <tbody>\n",
       "    <tr>\n",
       "      <th>1877</th>\n",
       "      <td>NC</td>\n",
       "      <td>55</td>\n",
       "      <td>408</td>\n",
       "      <td>359-7562</td>\n",
       "      <td>yes</td>\n",
       "      <td>no</td>\n",
       "      <td>0</td>\n",
       "      <td>221.0</td>\n",
       "      <td>115</td>\n",
       "      <td>37.57</td>\n",
       "      <td>...</td>\n",
       "      <td>97</td>\n",
       "      <td>14.06</td>\n",
       "      <td>235.4</td>\n",
       "      <td>117</td>\n",
       "      <td>10.59</td>\n",
       "      <td>9.7</td>\n",
       "      <td>4</td>\n",
       "      <td>2.62</td>\n",
       "      <td>1</td>\n",
       "      <td>False</td>\n",
       "    </tr>\n",
       "    <tr>\n",
       "      <th>1593</th>\n",
       "      <td>KS</td>\n",
       "      <td>105</td>\n",
       "      <td>415</td>\n",
       "      <td>405-1108</td>\n",
       "      <td>yes</td>\n",
       "      <td>no</td>\n",
       "      <td>0</td>\n",
       "      <td>273.9</td>\n",
       "      <td>119</td>\n",
       "      <td>46.56</td>\n",
       "      <td>...</td>\n",
       "      <td>103</td>\n",
       "      <td>23.68</td>\n",
       "      <td>255.3</td>\n",
       "      <td>90</td>\n",
       "      <td>11.49</td>\n",
       "      <td>10.9</td>\n",
       "      <td>7</td>\n",
       "      <td>2.94</td>\n",
       "      <td>1</td>\n",
       "      <td>True</td>\n",
       "    </tr>\n",
       "    <tr>\n",
       "      <th>1468</th>\n",
       "      <td>OH</td>\n",
       "      <td>75</td>\n",
       "      <td>510</td>\n",
       "      <td>372-2296</td>\n",
       "      <td>no</td>\n",
       "      <td>yes</td>\n",
       "      <td>27</td>\n",
       "      <td>117.5</td>\n",
       "      <td>102</td>\n",
       "      <td>19.98</td>\n",
       "      <td>...</td>\n",
       "      <td>127</td>\n",
       "      <td>17.58</td>\n",
       "      <td>194.4</td>\n",
       "      <td>114</td>\n",
       "      <td>8.75</td>\n",
       "      <td>4.2</td>\n",
       "      <td>7</td>\n",
       "      <td>1.13</td>\n",
       "      <td>3</td>\n",
       "      <td>False</td>\n",
       "    </tr>\n",
       "    <tr>\n",
       "      <th>1552</th>\n",
       "      <td>SD</td>\n",
       "      <td>75</td>\n",
       "      <td>408</td>\n",
       "      <td>335-3681</td>\n",
       "      <td>no</td>\n",
       "      <td>no</td>\n",
       "      <td>0</td>\n",
       "      <td>147.5</td>\n",
       "      <td>110</td>\n",
       "      <td>25.08</td>\n",
       "      <td>...</td>\n",
       "      <td>97</td>\n",
       "      <td>16.29</td>\n",
       "      <td>135.0</td>\n",
       "      <td>68</td>\n",
       "      <td>6.08</td>\n",
       "      <td>16.4</td>\n",
       "      <td>3</td>\n",
       "      <td>4.43</td>\n",
       "      <td>2</td>\n",
       "      <td>False</td>\n",
       "    </tr>\n",
       "    <tr>\n",
       "      <th>1484</th>\n",
       "      <td>AR</td>\n",
       "      <td>107</td>\n",
       "      <td>415</td>\n",
       "      <td>343-5219</td>\n",
       "      <td>yes</td>\n",
       "      <td>no</td>\n",
       "      <td>0</td>\n",
       "      <td>133.3</td>\n",
       "      <td>106</td>\n",
       "      <td>22.66</td>\n",
       "      <td>...</td>\n",
       "      <td>89</td>\n",
       "      <td>15.55</td>\n",
       "      <td>241.1</td>\n",
       "      <td>123</td>\n",
       "      <td>10.85</td>\n",
       "      <td>12.9</td>\n",
       "      <td>2</td>\n",
       "      <td>3.48</td>\n",
       "      <td>3</td>\n",
       "      <td>True</td>\n",
       "    </tr>\n",
       "  </tbody>\n",
       "</table>\n",
       "<p>5 rows × 21 columns</p>\n",
       "</div>"
      ],
      "text/plain": [
       "     state  account_length  area_code phone_number intl_plan voice_mail_plan  \\\n",
       "1877    NC              55        408     359-7562       yes              no   \n",
       "1593    KS             105        415     405-1108       yes              no   \n",
       "1468    OH              75        510     372-2296        no             yes   \n",
       "1552    SD              75        408     335-3681        no              no   \n",
       "1484    AR             107        415     343-5219       yes              no   \n",
       "\n",
       "      number_vmail_messages  total_day_minutes  total_day_calls  \\\n",
       "1877                      0              221.0              115   \n",
       "1593                      0              273.9              119   \n",
       "1468                     27              117.5              102   \n",
       "1552                      0              147.5              110   \n",
       "1484                      0              133.3              106   \n",
       "\n",
       "      total_day_charge  ...  total_eve_calls  total_eve_charge  \\\n",
       "1877             37.57  ...               97             14.06   \n",
       "1593             46.56  ...              103             23.68   \n",
       "1468             19.98  ...              127             17.58   \n",
       "1552             25.08  ...               97             16.29   \n",
       "1484             22.66  ...               89             15.55   \n",
       "\n",
       "      total_night_minutes  total_night_calls  total_night_charge  \\\n",
       "1877                235.4                117               10.59   \n",
       "1593                255.3                 90               11.49   \n",
       "1468                194.4                114                8.75   \n",
       "1552                135.0                 68                6.08   \n",
       "1484                241.1                123               10.85   \n",
       "\n",
       "      total_intl_minutes  total_intl_calls  total_intl_charge  \\\n",
       "1877                 9.7                 4               2.62   \n",
       "1593                10.9                 7               2.94   \n",
       "1468                 4.2                 7               1.13   \n",
       "1552                16.4                 3               4.43   \n",
       "1484                12.9                 2               3.48   \n",
       "\n",
       "      number_customer_service_calls  churned  \n",
       "1877                              1    False  \n",
       "1593                              1     True  \n",
       "1468                              3    False  \n",
       "1552                              2    False  \n",
       "1484                              3     True  \n",
       "\n",
       "[5 rows x 21 columns]"
      ]
     },
     "execution_count": 2,
     "metadata": {},
     "output_type": "execute_result"
    }
   ],
   "source": [
    "df = pd.read_csv('Orange_Telecom_Churn_Data.csv')\n",
    "df.sample(5)"
   ]
  },
  {
   "cell_type": "code",
   "execution_count": 3,
   "metadata": {
    "slideshow": {
     "slide_type": "slide"
    }
   },
   "outputs": [
    {
     "data": {
      "text/plain": [
       "['state',\n",
       " 'account_length',\n",
       " 'area_code',\n",
       " 'phone_number',\n",
       " 'intl_plan',\n",
       " 'voice_mail_plan',\n",
       " 'number_vmail_messages',\n",
       " 'total_day_minutes',\n",
       " 'total_day_calls',\n",
       " 'total_day_charge',\n",
       " 'total_eve_minutes',\n",
       " 'total_eve_calls',\n",
       " 'total_eve_charge',\n",
       " 'total_night_minutes',\n",
       " 'total_night_calls',\n",
       " 'total_night_charge',\n",
       " 'total_intl_minutes',\n",
       " 'total_intl_calls',\n",
       " 'total_intl_charge',\n",
       " 'number_customer_service_calls',\n",
       " 'churned']"
      ]
     },
     "execution_count": 3,
     "metadata": {},
     "output_type": "execute_result"
    }
   ],
   "source": [
    "list(df.columns)"
   ]
  },
  {
   "cell_type": "markdown",
   "metadata": {
    "slideshow": {
     "slide_type": "slide"
    }
   },
   "source": [
    "### No. of users on voice mail plan = `1323`"
   ]
  },
  {
   "cell_type": "code",
   "execution_count": 4,
   "metadata": {
    "slideshow": {
     "slide_type": "slide"
    }
   },
   "outputs": [
    {
     "data": {
      "text/plain": [
       "no     3677\n",
       "yes    1323\n",
       "Name: voice_mail_plan, dtype: int64"
      ]
     },
     "execution_count": 4,
     "metadata": {},
     "output_type": "execute_result"
    }
   ],
   "source": [
    "df.voice_mail_plan.value_counts()  # we have only 2 possible values."
   ]
  },
  {
   "cell_type": "code",
   "execution_count": 36,
   "metadata": {},
   "outputs": [
    {
     "data": {
      "image/png": "[encoded data removed]",
      "text/plain": [
       "<Figure size 432x288 with 1 Axes>"
      ]
     },
     "metadata": {
      "needs_background": "light"
     },
     "output_type": "display_data"
    }
   ],
   "source": [
    "ax = df.voice_mail_plan.value_counts().plot(kind='bar', grid=True)\n",
    "fig = ax.get_figure()\n",
    "fig.savefig(r'C:\\Users\\kaban\\Desktop\\Ass_#4\\figure.pdf')"
   ]
  },
  {
   "cell_type": "markdown",
   "metadata": {
    "slideshow": {
     "slide_type": "slide"
    }
   },
   "source": [
    "### the average of vmail messages for subscribed users only = `29` vmess"
   ]
  },
  {
   "cell_type": "code",
   "execution_count": 5,
   "metadata": {
    "slideshow": {
     "slide_type": "slide"
    }
   },
   "outputs": [
    {
     "data": {
      "text/plain": [
       "['state',\n",
       " 'account_length',\n",
       " 'area_code',\n",
       " 'phone_number',\n",
       " 'intl_plan',\n",
       " 'voice_mail_plan',\n",
       " 'number_vmail_messages',\n",
       " 'total_day_minutes',\n",
       " 'total_day_calls',\n",
       " 'total_day_charge',\n",
       " 'total_eve_minutes',\n",
       " 'total_eve_calls',\n",
       " 'total_eve_charge',\n",
       " 'total_night_minutes',\n",
       " 'total_night_calls',\n",
       " 'total_night_charge',\n",
       " 'total_intl_minutes',\n",
       " 'total_intl_calls',\n",
       " 'total_intl_charge',\n",
       " 'number_customer_service_calls',\n",
       " 'churned']"
      ]
     },
     "execution_count": 5,
     "metadata": {},
     "output_type": "execute_result"
    }
   ],
   "source": [
    "list(df.columns)"
   ]
  },
  {
   "cell_type": "code",
   "execution_count": 6,
   "metadata": {
    "slideshow": {
     "slide_type": "subslide"
    }
   },
   "outputs": [
    {
     "data": {
      "text/plain": [
       "29"
      ]
     },
     "execution_count": 6,
     "metadata": {},
     "output_type": "execute_result"
    }
   ],
   "source": [
    "round(df.query('voice_mail_plan == \"yes\"')['number_vmail_messages'].describe()['mean']) # rounded because the voice mail messages count is a discrete variable."
   ]
  },
  {
   "cell_type": "code",
   "execution_count": 37,
   "metadata": {},
   "outputs": [
    {
     "data": {
      "text/plain": [
       "<AxesSubplot:>"
      ]
     },
     "execution_count": 37,
     "metadata": {},
     "output_type": "execute_result"
    },
    {
     "data": {
      "image/png": "[encoded data removed]",
      "text/plain": [
       "<Figure size 432x288 with 1 Axes>"
      ]
     },
     "metadata": {
      "needs_background": "light"
     },
     "output_type": "display_data"
    }
   ],
   "source": [
    "round(df.query('voice_mail_plan == \"yes\"')['number_vmail_messages'].describe()).plot(kind='bar') # rounded because the voice mail messages count is a discrete variable."
   ]
  },
  {
   "cell_type": "markdown",
   "metadata": {
    "slideshow": {
     "slide_type": "subslide"
    }
   },
   "source": [
    "### total daylight minutes per state"
   ]
  },
  {
   "cell_type": "code",
   "execution_count": 7,
   "metadata": {
    "slideshow": {
     "slide_type": "fragment"
    }
   },
   "outputs": [],
   "source": [
    "df_total_day_min = df.groupby('state')['total_day_minutes'].sum()"
   ]
  },
  {
   "cell_type": "code",
   "execution_count": 58,
   "metadata": {},
   "outputs": [
    {
     "data": {
      "text/plain": [
       "(27968.999999999985, 8992.500000000002)"
      ]
     },
     "execution_count": 58,
     "metadata": {},
     "output_type": "execute_result"
    }
   ],
   "source": [
    "df_total_day_min.describe()['max'], df_total_day_min.describe()['min']"
   ]
  },
  {
   "cell_type": "code",
   "execution_count": 8,
   "metadata": {
    "slideshow": {
     "slide_type": "slide"
    }
   },
   "outputs": [
    {
     "data": {
      "text/plain": [
       "state\n",
       "AK    13029.0\n",
       "AL    23494.8\n",
       "AR    16117.1\n",
       "AZ    15704.7\n",
       "CA     8992.5\n",
       "CO    16935.5\n",
       "CT    17382.1\n",
       "DC    15173.3\n",
       "DE    17253.1\n",
       "FL    15872.7\n",
       "GA    14648.1\n",
       "HI    15239.0\n",
       "IA    12073.4\n",
       "ID    21696.0\n",
       "IL    15201.3\n",
       "IN    18443.0\n",
       "KS    18996.0\n",
       "KY    17936.9\n",
       "LA    14236.8\n",
       "MA    19044.5\n",
       "MD    19479.5\n",
       "ME    19147.9\n",
       "MI    18207.1\n",
       "MN    22829.1\n",
       "MO    15767.5\n",
       "MS    17476.3\n",
       "MT    17623.7\n",
       "NC    16435.6\n",
       "ND    16076.2\n",
       "NE    15219.1\n",
       "NH    16875.6\n",
       "NJ    21513.7\n",
       "NM    15921.9\n",
       "NV    16324.7\n",
       "NY    20246.2\n",
       "OH    21544.5\n",
       "OK    16771.5\n",
       "OR    20327.1\n",
       "PA    14374.9\n",
       "RI    17191.3\n",
       "SC    15798.3\n",
       "SD    15732.9\n",
       "TN    15784.4\n",
       "TX    21411.8\n",
       "UT    21187.8\n",
       "VA    21166.1\n",
       "VT    18269.0\n",
       "WA    17847.4\n",
       "WI    18649.7\n",
       "WV    27969.0\n",
       "WY    20804.9\n",
       "Name: total_day_minutes, dtype: float64"
      ]
     },
     "execution_count": 8,
     "metadata": {},
     "output_type": "execute_result"
    }
   ],
   "source": [
    "df_total_day_min"
   ]
  },
  {
   "cell_type": "code",
   "execution_count": 38,
   "metadata": {
    "slideshow": {
     "slide_type": "slide"
    }
   },
   "outputs": [
    {
     "data": {
      "image/png": "[encoded data removed]",
      "text/plain": [
       "<Figure size 720x720 with 1 Axes>"
      ]
     },
     "metadata": {
      "needs_background": "light"
     },
     "output_type": "display_data"
    }
   ],
   "source": [
    "ax = df_total_day_min.plot(kind='barh', figsize=(10,10))\n",
    "plt.xlabel('total daylight minutes')\n",
    "plt.ylabel('state')\n",
    "fig = ax.get_figure()\n",
    "fig.savefig(r'C:\\Users\\kaban\\Desktop\\Ass_#4\\fig3.png')"
   ]
  },
  {
   "cell_type": "markdown",
   "metadata": {
    "slideshow": {
     "slide_type": "slide"
    }
   },
   "source": [
    "### total daylight charge per state"
   ]
  },
  {
   "cell_type": "code",
   "execution_count": 10,
   "metadata": {
    "slideshow": {
     "slide_type": "slide"
    }
   },
   "outputs": [],
   "source": [
    "df_total_day_charge = df.groupby('state')['total_day_charge'].sum()"
   ]
  },
  {
   "cell_type": "code",
   "execution_count": 59,
   "metadata": {},
   "outputs": [
    {
     "data": {
      "text/plain": [
       "(4754.860000000001, 1528.7500000000005)"
      ]
     },
     "execution_count": 59,
     "metadata": {},
     "output_type": "execute_result"
    }
   ],
   "source": [
    "df_total_day_charge.describe()['max'], df_total_day_charge.describe()['min']"
   ]
  },
  {
   "cell_type": "code",
   "execution_count": 11,
   "metadata": {
    "slideshow": {
     "slide_type": "slide"
    }
   },
   "outputs": [
    {
     "data": {
      "text/plain": [
       "state\n",
       "AK    2214.96\n",
       "AL    3994.15\n",
       "AR    2739.95\n",
       "AZ    2669.85\n",
       "CA    1528.75\n",
       "CO    2879.09\n",
       "CT    2954.99\n",
       "DC    2579.55\n",
       "DE    2933.09\n",
       "FL    2698.40\n",
       "GA    2490.23\n",
       "HI    2590.63\n",
       "IA    2052.57\n",
       "ID    3688.39\n",
       "IL    2584.26\n",
       "IN    3135.36\n",
       "KS    3229.35\n",
       "KY    3049.40\n",
       "LA    2420.31\n",
       "MA    3237.57\n",
       "MD    3311.58\n",
       "ME    3255.24\n",
       "MI    3095.25\n",
       "MN    3881.04\n",
       "MO    2680.57\n",
       "MS    2971.03\n",
       "MT    2996.03\n",
       "NC    2794.11\n",
       "ND    2733.05\n",
       "NE    2587.27\n",
       "NH    2868.93\n",
       "NJ    3657.36\n",
       "NM    2706.74\n",
       "NV    2775.24\n",
       "NY    3441.92\n",
       "OH    3662.64\n",
       "OK    2851.17\n",
       "OR    3455.71\n",
       "PA    2443.76\n",
       "RI    2922.59\n",
       "SC    2685.79\n",
       "SD    2674.62\n",
       "TN    2683.39\n",
       "TX    3640.06\n",
       "UT    3601.98\n",
       "VA    3598.29\n",
       "VT    3105.82\n",
       "WA    3034.09\n",
       "WI    3170.47\n",
       "WV    4754.86\n",
       "WY    3536.89\n",
       "Name: total_day_charge, dtype: float64"
      ]
     },
     "execution_count": 11,
     "metadata": {},
     "output_type": "execute_result"
    }
   ],
   "source": [
    "df_total_day_charge"
   ]
  },
  {
   "cell_type": "code",
   "execution_count": 41,
   "metadata": {
    "slideshow": {
     "slide_type": "slide"
    }
   },
   "outputs": [
    {
     "data": {
      "image/png": "[encoded data removed]",
      "text/plain": [
       "<Figure size 720x720 with 1 Axes>"
      ]
     },
     "metadata": {
      "needs_background": "light"
     },
     "output_type": "display_data"
    }
   ],
   "source": [
    "ax = df_total_day_charge.plot(kind='barh', figsize=(10,10))\n",
    "plt.xlabel('total daylight charge')\n",
    "plt.ylabel('state')\n",
    "fig = ax.get_figure()\n",
    "fig.savefig(r'C:\\Users\\kaban\\Desktop\\Ass_#4\\fig4.png')"
   ]
  },
  {
   "cell_type": "code",
   "execution_count": 13,
   "metadata": {
    "slideshow": {
     "slide_type": "subslide"
    }
   },
   "outputs": [
    {
     "data": {
      "text/plain": [
       "['state',\n",
       " 'account_length',\n",
       " 'area_code',\n",
       " 'phone_number',\n",
       " 'intl_plan',\n",
       " 'voice_mail_plan',\n",
       " 'number_vmail_messages',\n",
       " 'total_day_minutes',\n",
       " 'total_day_calls',\n",
       " 'total_day_charge',\n",
       " 'total_eve_minutes',\n",
       " 'total_eve_calls',\n",
       " 'total_eve_charge',\n",
       " 'total_night_minutes',\n",
       " 'total_night_calls',\n",
       " 'total_night_charge',\n",
       " 'total_intl_minutes',\n",
       " 'total_intl_calls',\n",
       " 'total_intl_charge',\n",
       " 'number_customer_service_calls',\n",
       " 'churned']"
      ]
     },
     "execution_count": 13,
     "metadata": {},
     "output_type": "execute_result"
    }
   ],
   "source": [
    "list(df.columns)"
   ]
  },
  {
   "cell_type": "markdown",
   "metadata": {
    "slideshow": {
     "slide_type": "slide"
    }
   },
   "source": [
    "### average call duration (i.e. minutes consumed during calls) in day, eve and night  "
   ]
  },
  {
   "cell_type": "markdown",
   "metadata": {
    "slideshow": {
     "slide_type": "slide"
    }
   },
   "source": [
    "#### average call duration for each period of time per `record (i.e. customer) `."
   ]
  },
  {
   "cell_type": "code",
   "execution_count": 14,
   "metadata": {
    "slideshow": {
     "slide_type": "slide"
    }
   },
   "outputs": [
    {
     "data": {
      "text/plain": [
       "['state',\n",
       " 'account_length',\n",
       " 'area_code',\n",
       " 'phone_number',\n",
       " 'intl_plan',\n",
       " 'voice_mail_plan',\n",
       " 'number_vmail_messages',\n",
       " 'total_day_minutes',\n",
       " 'total_day_calls',\n",
       " 'total_day_charge',\n",
       " 'total_eve_minutes',\n",
       " 'total_eve_calls',\n",
       " 'total_eve_charge',\n",
       " 'total_night_minutes',\n",
       " 'total_night_calls',\n",
       " 'total_night_charge',\n",
       " 'total_intl_minutes',\n",
       " 'total_intl_calls',\n",
       " 'total_intl_charge',\n",
       " 'number_customer_service_calls',\n",
       " 'churned']"
      ]
     },
     "execution_count": 14,
     "metadata": {},
     "output_type": "execute_result"
    }
   ],
   "source": [
    "list(df.columns)"
   ]
  },
  {
   "cell_type": "code",
   "execution_count": 15,
   "metadata": {
    "slideshow": {
     "slide_type": "slide"
    }
   },
   "outputs": [
    {
     "data": {
      "text/plain": [
       "total_day_minutes      180.28890\n",
       "total_eve_minutes      200.63656\n",
       "total_night_minutes    200.39162\n",
       "dtype: float64"
      ]
     },
     "execution_count": 15,
     "metadata": {},
     "output_type": "execute_result"
    }
   ],
   "source": [
    "df.loc[:, ['total_day_minutes', 'total_eve_minutes', 'total_night_minutes']].mean()  # column-wise."
   ]
  },
  {
   "cell_type": "code",
   "execution_count": 56,
   "metadata": {},
   "outputs": [
    {
     "data": {
      "image/png": "[encoded data removed]",
      "text/plain": [
       "<Figure size 432x288 with 1 Axes>"
      ]
     },
     "metadata": {
      "needs_background": "light"
     },
     "output_type": "display_data"
    }
   ],
   "source": [
    "x_ticks = ['day', 'eve', 'night']\n",
    "ax = df.loc[:, ['total_day_minutes', 'total_eve_minutes', 'total_night_minutes']].mean().plot(kind='bar')\n",
    "plt.xlabel('average of total minutes for all customers')\n",
    "fig = ax.get_figure()\n",
    "fig.savefig(r'C:\\Users\\kaban\\Desktop\\Ass_#4\\fig.png')"
   ]
  },
  {
   "cell_type": "code",
   "execution_count": 16,
   "metadata": {
    "slideshow": {
     "slide_type": "slide"
    }
   },
   "outputs": [
    {
     "data": {
      "text/plain": [
       "901444.5"
      ]
     },
     "execution_count": 16,
     "metadata": {},
     "output_type": "execute_result"
    }
   ],
   "source": [
    "df.total_day_minutes.sum()"
   ]
  },
  {
   "cell_type": "markdown",
   "metadata": {
    "slideshow": {
     "slide_type": "slide"
    }
   },
   "source": [
    "#### average call duration for each period of time per `record (i.e. customer) ` and the cusomer `to be within` the voice message plan. (i.e. analysis from another prespective.)"
   ]
  },
  {
   "cell_type": "code",
   "execution_count": 17,
   "metadata": {
    "slideshow": {
     "slide_type": "slide"
    }
   },
   "outputs": [
    {
     "data": {
      "text/plain": [
       "total_day_minutes      180.473923\n",
       "total_eve_minutes      202.602343\n",
       "total_night_minutes    200.856916\n",
       "dtype: float64"
      ]
     },
     "execution_count": 17,
     "metadata": {},
     "output_type": "execute_result"
    }
   ],
   "source": [
    "df.query('voice_mail_plan == \"yes\"').loc[:, ['total_day_minutes', 'total_eve_minutes', 'total_night_minutes']].mean()"
   ]
  },
  {
   "cell_type": "code",
   "execution_count": 18,
   "metadata": {
    "slideshow": {
     "slide_type": "slide"
    }
   },
   "outputs": [
    {
     "data": {
      "text/plain": [
       "<AxesSubplot:>"
      ]
     },
     "execution_count": 18,
     "metadata": {},
     "output_type": "execute_result"
    },
    {
     "data": {
      "image/png": "[encoded data removed]",
      "text/plain": [
       "<Figure size 432x288 with 1 Axes>"
      ]
     },
     "metadata": {
      "needs_background": "light"
     },
     "output_type": "display_data"
    }
   ],
   "source": [
    "df.query('voice_mail_plan == \"yes\"').loc[:, ['total_day_minutes', 'total_eve_minutes', 'total_night_minutes']].mean().plot(kind='bar')"
   ]
  },
  {
   "cell_type": "markdown",
   "metadata": {
    "slideshow": {
     "slide_type": "slide"
    }
   },
   "source": [
    "#### average call duration for each period of time per `record (i.e. customer) ` and the cusomer `not to be within` the voice message plan."
   ]
  },
  {
   "cell_type": "code",
   "execution_count": 19,
   "metadata": {
    "slideshow": {
     "slide_type": "fragment"
    }
   },
   "outputs": [
    {
     "data": {
      "text/plain": [
       "total_day_minutes      180.222328\n",
       "total_eve_minutes      199.929263\n",
       "total_night_minutes    200.224205\n",
       "dtype: float64"
      ]
     },
     "execution_count": 19,
     "metadata": {},
     "output_type": "execute_result"
    }
   ],
   "source": [
    "df.query('voice_mail_plan == \"no\"').loc[:, ['total_day_minutes', 'total_eve_minutes', 'total_night_minutes']].mean()"
   ]
  },
  {
   "cell_type": "code",
   "execution_count": 20,
   "metadata": {
    "slideshow": {
     "slide_type": "subslide"
    }
   },
   "outputs": [
    {
     "data": {
      "text/plain": [
       "<AxesSubplot:>"
      ]
     },
     "execution_count": 20,
     "metadata": {},
     "output_type": "execute_result"
    },
    {
     "data": {
      "image/png": "[encoded data removed]",
      "text/plain": [
       "<Figure size 432x288 with 1 Axes>"
      ]
     },
     "metadata": {
      "needs_background": "light"
     },
     "output_type": "display_data"
    }
   ],
   "source": [
    "df.query('voice_mail_plan == \"no\"').loc[:, ['total_day_minutes', 'total_eve_minutes', 'total_night_minutes']].mean().plot(kind='bar')"
   ]
  },
  {
   "cell_type": "markdown",
   "metadata": {
    "slideshow": {
     "slide_type": "slide"
    }
   },
   "source": [
    "#### average call duration for each period of time per `state`."
   ]
  },
  {
   "cell_type": "code",
   "execution_count": 21,
   "metadata": {
    "slideshow": {
     "slide_type": "slide"
    }
   },
   "outputs": [
    {
     "data": {
      "text/html": [
       "<div>\n",
       "<style scoped>\n",
       "    .dataframe tbody tr th:only-of-type {\n",
       "        vertical-align: middle;\n",
       "    }\n",
       "\n",
       "    .dataframe tbody tr th {\n",
       "        vertical-align: top;\n",
       "    }\n",
       "\n",
       "    .dataframe thead th {\n",
       "        text-align: right;\n",
       "    }\n",
       "</style>\n",
       "<table border=\"1\" class=\"dataframe\">\n",
       "  <thead>\n",
       "    <tr style=\"text-align: right;\">\n",
       "      <th></th>\n",
       "      <th>total_day_minutes</th>\n",
       "      <th>total_eve_minutes</th>\n",
       "      <th>total_night_minutes</th>\n",
       "    </tr>\n",
       "    <tr>\n",
       "      <th>state</th>\n",
       "      <th></th>\n",
       "      <th></th>\n",
       "      <th></th>\n",
       "    </tr>\n",
       "  </thead>\n",
       "  <tbody>\n",
       "    <tr>\n",
       "      <th>AK</th>\n",
       "      <td>180.958333</td>\n",
       "      <td>189.683333</td>\n",
       "      <td>197.870833</td>\n",
       "    </tr>\n",
       "    <tr>\n",
       "      <th>AL</th>\n",
       "      <td>189.474194</td>\n",
       "      <td>199.669355</td>\n",
       "      <td>187.160484</td>\n",
       "    </tr>\n",
       "    <tr>\n",
       "      <th>AR</th>\n",
       "      <td>175.185870</td>\n",
       "      <td>197.918478</td>\n",
       "      <td>205.045652</td>\n",
       "    </tr>\n",
       "    <tr>\n",
       "      <th>AZ</th>\n",
       "      <td>176.457303</td>\n",
       "      <td>195.919101</td>\n",
       "      <td>191.632584</td>\n",
       "    </tr>\n",
       "    <tr>\n",
       "      <th>CA</th>\n",
       "      <td>172.932692</td>\n",
       "      <td>194.632692</td>\n",
       "      <td>199.767308</td>\n",
       "    </tr>\n",
       "    <tr>\n",
       "      <th>CO</th>\n",
       "      <td>176.411458</td>\n",
       "      <td>204.292708</td>\n",
       "      <td>188.827083</td>\n",
       "    </tr>\n",
       "    <tr>\n",
       "      <th>CT</th>\n",
       "      <td>175.576768</td>\n",
       "      <td>201.148485</td>\n",
       "      <td>202.327273</td>\n",
       "    </tr>\n",
       "    <tr>\n",
       "      <th>DC</th>\n",
       "      <td>172.423864</td>\n",
       "      <td>197.865909</td>\n",
       "      <td>210.781818</td>\n",
       "    </tr>\n",
       "    <tr>\n",
       "      <th>DE</th>\n",
       "      <td>183.543617</td>\n",
       "      <td>206.446809</td>\n",
       "      <td>206.054255</td>\n",
       "    </tr>\n",
       "    <tr>\n",
       "      <th>FL</th>\n",
       "      <td>176.363333</td>\n",
       "      <td>211.317778</td>\n",
       "      <td>198.220000</td>\n",
       "    </tr>\n",
       "    <tr>\n",
       "      <th>GA</th>\n",
       "      <td>176.483133</td>\n",
       "      <td>205.406024</td>\n",
       "      <td>199.346988</td>\n",
       "    </tr>\n",
       "    <tr>\n",
       "      <th>HI</th>\n",
       "      <td>177.197674</td>\n",
       "      <td>197.010465</td>\n",
       "      <td>202.823256</td>\n",
       "    </tr>\n",
       "    <tr>\n",
       "      <th>IA</th>\n",
       "      <td>174.976812</td>\n",
       "      <td>206.130435</td>\n",
       "      <td>196.721739</td>\n",
       "    </tr>\n",
       "    <tr>\n",
       "      <th>ID</th>\n",
       "      <td>182.319328</td>\n",
       "      <td>196.036134</td>\n",
       "      <td>200.358824</td>\n",
       "    </tr>\n",
       "    <tr>\n",
       "      <th>IL</th>\n",
       "      <td>172.742045</td>\n",
       "      <td>194.764773</td>\n",
       "      <td>198.651136</td>\n",
       "    </tr>\n",
       "    <tr>\n",
       "      <th>IN</th>\n",
       "      <td>188.193878</td>\n",
       "      <td>202.927551</td>\n",
       "      <td>206.103061</td>\n",
       "    </tr>\n",
       "    <tr>\n",
       "      <th>KS</th>\n",
       "      <td>191.878788</td>\n",
       "      <td>207.831313</td>\n",
       "      <td>201.553535</td>\n",
       "    </tr>\n",
       "    <tr>\n",
       "      <th>KY</th>\n",
       "      <td>181.180808</td>\n",
       "      <td>195.272727</td>\n",
       "      <td>201.533333</td>\n",
       "    </tr>\n",
       "    <tr>\n",
       "      <th>LA</th>\n",
       "      <td>173.619512</td>\n",
       "      <td>197.530488</td>\n",
       "      <td>197.231707</td>\n",
       "    </tr>\n",
       "    <tr>\n",
       "      <th>MA</th>\n",
       "      <td>184.898058</td>\n",
       "      <td>205.563107</td>\n",
       "      <td>200.425243</td>\n",
       "    </tr>\n",
       "    <tr>\n",
       "      <th>MD</th>\n",
       "      <td>190.975490</td>\n",
       "      <td>196.948039</td>\n",
       "      <td>199.264706</td>\n",
       "    </tr>\n",
       "    <tr>\n",
       "      <th>ME</th>\n",
       "      <td>185.901942</td>\n",
       "      <td>200.095146</td>\n",
       "      <td>201.589320</td>\n",
       "    </tr>\n",
       "    <tr>\n",
       "      <th>MI</th>\n",
       "      <td>176.767961</td>\n",
       "      <td>202.941748</td>\n",
       "      <td>193.939806</td>\n",
       "    </tr>\n",
       "    <tr>\n",
       "      <th>MN</th>\n",
       "      <td>182.632800</td>\n",
       "      <td>195.392000</td>\n",
       "      <td>206.110400</td>\n",
       "    </tr>\n",
       "    <tr>\n",
       "      <th>MO</th>\n",
       "      <td>169.543011</td>\n",
       "      <td>202.008602</td>\n",
       "      <td>211.568817</td>\n",
       "    </tr>\n",
       "    <tr>\n",
       "      <th>MS</th>\n",
       "      <td>176.528283</td>\n",
       "      <td>199.915152</td>\n",
       "      <td>203.384848</td>\n",
       "    </tr>\n",
       "    <tr>\n",
       "      <th>MT</th>\n",
       "      <td>178.017172</td>\n",
       "      <td>204.183838</td>\n",
       "      <td>196.240404</td>\n",
       "    </tr>\n",
       "    <tr>\n",
       "      <th>NC</th>\n",
       "      <td>180.610989</td>\n",
       "      <td>202.194505</td>\n",
       "      <td>196.284615</td>\n",
       "    </tr>\n",
       "    <tr>\n",
       "      <th>ND</th>\n",
       "      <td>182.684091</td>\n",
       "      <td>205.300000</td>\n",
       "      <td>198.453409</td>\n",
       "    </tr>\n",
       "    <tr>\n",
       "      <th>NE</th>\n",
       "      <td>172.944318</td>\n",
       "      <td>200.828409</td>\n",
       "      <td>200.345455</td>\n",
       "    </tr>\n",
       "    <tr>\n",
       "      <th>NH</th>\n",
       "      <td>177.637895</td>\n",
       "      <td>199.001053</td>\n",
       "      <td>208.702105</td>\n",
       "    </tr>\n",
       "    <tr>\n",
       "      <th>NJ</th>\n",
       "      <td>192.086607</td>\n",
       "      <td>196.508929</td>\n",
       "      <td>204.264286</td>\n",
       "    </tr>\n",
       "    <tr>\n",
       "      <th>NM</th>\n",
       "      <td>174.965934</td>\n",
       "      <td>205.087912</td>\n",
       "      <td>199.357143</td>\n",
       "    </tr>\n",
       "    <tr>\n",
       "      <th>NV</th>\n",
       "      <td>181.385556</td>\n",
       "      <td>203.613333</td>\n",
       "      <td>204.130000</td>\n",
       "    </tr>\n",
       "    <tr>\n",
       "      <th>NY</th>\n",
       "      <td>177.598246</td>\n",
       "      <td>197.599123</td>\n",
       "      <td>201.991228</td>\n",
       "    </tr>\n",
       "    <tr>\n",
       "      <th>OH</th>\n",
       "      <td>185.728448</td>\n",
       "      <td>199.786207</td>\n",
       "      <td>204.188793</td>\n",
       "    </tr>\n",
       "    <tr>\n",
       "      <th>OK</th>\n",
       "      <td>186.350000</td>\n",
       "      <td>198.648889</td>\n",
       "      <td>197.174444</td>\n",
       "    </tr>\n",
       "    <tr>\n",
       "      <th>OR</th>\n",
       "      <td>178.307895</td>\n",
       "      <td>203.647368</td>\n",
       "      <td>201.211404</td>\n",
       "    </tr>\n",
       "    <tr>\n",
       "      <th>PA</th>\n",
       "      <td>186.687013</td>\n",
       "      <td>196.759740</td>\n",
       "      <td>200.332468</td>\n",
       "    </tr>\n",
       "    <tr>\n",
       "      <th>RI</th>\n",
       "      <td>173.649495</td>\n",
       "      <td>209.662626</td>\n",
       "      <td>205.549495</td>\n",
       "    </tr>\n",
       "    <tr>\n",
       "      <th>SC</th>\n",
       "      <td>173.607692</td>\n",
       "      <td>205.023077</td>\n",
       "      <td>197.482418</td>\n",
       "    </tr>\n",
       "    <tr>\n",
       "      <th>SD</th>\n",
       "      <td>185.092941</td>\n",
       "      <td>201.030588</td>\n",
       "      <td>199.774118</td>\n",
       "    </tr>\n",
       "    <tr>\n",
       "      <th>TN</th>\n",
       "      <td>177.352809</td>\n",
       "      <td>204.528090</td>\n",
       "      <td>205.826966</td>\n",
       "    </tr>\n",
       "    <tr>\n",
       "      <th>TX</th>\n",
       "      <td>184.584483</td>\n",
       "      <td>201.212931</td>\n",
       "      <td>198.406034</td>\n",
       "    </tr>\n",
       "    <tr>\n",
       "      <th>UT</th>\n",
       "      <td>189.176786</td>\n",
       "      <td>197.180357</td>\n",
       "      <td>191.932143</td>\n",
       "    </tr>\n",
       "    <tr>\n",
       "      <th>VA</th>\n",
       "      <td>179.373729</td>\n",
       "      <td>199.824576</td>\n",
       "      <td>206.500000</td>\n",
       "    </tr>\n",
       "    <tr>\n",
       "      <th>VT</th>\n",
       "      <td>180.881188</td>\n",
       "      <td>207.662376</td>\n",
       "      <td>207.020792</td>\n",
       "    </tr>\n",
       "    <tr>\n",
       "      <th>WA</th>\n",
       "      <td>182.116327</td>\n",
       "      <td>202.316327</td>\n",
       "      <td>197.919388</td>\n",
       "    </tr>\n",
       "    <tr>\n",
       "      <th>WI</th>\n",
       "      <td>175.940566</td>\n",
       "      <td>196.321698</td>\n",
       "      <td>194.559434</td>\n",
       "    </tr>\n",
       "    <tr>\n",
       "      <th>WV</th>\n",
       "      <td>177.018987</td>\n",
       "      <td>191.993671</td>\n",
       "      <td>198.877848</td>\n",
       "    </tr>\n",
       "    <tr>\n",
       "      <th>WY</th>\n",
       "      <td>180.912174</td>\n",
       "      <td>202.876522</td>\n",
       "      <td>196.184348</td>\n",
       "    </tr>\n",
       "  </tbody>\n",
       "</table>\n",
       "</div>"
      ],
      "text/plain": [
       "       total_day_minutes  total_eve_minutes  total_night_minutes\n",
       "state                                                           \n",
       "AK            180.958333         189.683333           197.870833\n",
       "AL            189.474194         199.669355           187.160484\n",
       "AR            175.185870         197.918478           205.045652\n",
       "AZ            176.457303         195.919101           191.632584\n",
       "CA            172.932692         194.632692           199.767308\n",
       "CO            176.411458         204.292708           188.827083\n",
       "CT            175.576768         201.148485           202.327273\n",
       "DC            172.423864         197.865909           210.781818\n",
       "DE            183.543617         206.446809           206.054255\n",
       "FL            176.363333         211.317778           198.220000\n",
       "GA            176.483133         205.406024           199.346988\n",
       "HI            177.197674         197.010465           202.823256\n",
       "IA            174.976812         206.130435           196.721739\n",
       "ID            182.319328         196.036134           200.358824\n",
       "IL            172.742045         194.764773           198.651136\n",
       "IN            188.193878         202.927551           206.103061\n",
       "KS            191.878788         207.831313           201.553535\n",
       "KY            181.180808         195.272727           201.533333\n",
       "LA            173.619512         197.530488           197.231707\n",
       "MA            184.898058         205.563107           200.425243\n",
       "MD            190.975490         196.948039           199.264706\n",
       "ME            185.901942         200.095146           201.589320\n",
       "MI            176.767961         202.941748           193.939806\n",
       "MN            182.632800         195.392000           206.110400\n",
       "MO            169.543011         202.008602           211.568817\n",
       "MS            176.528283         199.915152           203.384848\n",
       "MT            178.017172         204.183838           196.240404\n",
       "NC            180.610989         202.194505           196.284615\n",
       "ND            182.684091         205.300000           198.453409\n",
       "NE            172.944318         200.828409           200.345455\n",
       "NH            177.637895         199.001053           208.702105\n",
       "NJ            192.086607         196.508929           204.264286\n",
       "NM            174.965934         205.087912           199.357143\n",
       "NV            181.385556         203.613333           204.130000\n",
       "NY            177.598246         197.599123           201.991228\n",
       "OH            185.728448         199.786207           204.188793\n",
       "OK            186.350000         198.648889           197.174444\n",
       "OR            178.307895         203.647368           201.211404\n",
       "PA            186.687013         196.759740           200.332468\n",
       "RI            173.649495         209.662626           205.549495\n",
       "SC            173.607692         205.023077           197.482418\n",
       "SD            185.092941         201.030588           199.774118\n",
       "TN            177.352809         204.528090           205.826966\n",
       "TX            184.584483         201.212931           198.406034\n",
       "UT            189.176786         197.180357           191.932143\n",
       "VA            179.373729         199.824576           206.500000\n",
       "VT            180.881188         207.662376           207.020792\n",
       "WA            182.116327         202.316327           197.919388\n",
       "WI            175.940566         196.321698           194.559434\n",
       "WV            177.018987         191.993671           198.877848\n",
       "WY            180.912174         202.876522           196.184348"
      ]
     },
     "execution_count": 21,
     "metadata": {},
     "output_type": "execute_result"
    }
   ],
   "source": [
    "df.groupby('state')[['total_day_minutes', 'total_eve_minutes', 'total_night_minutes']].mean()"
   ]
  },
  {
   "cell_type": "code",
   "execution_count": 57,
   "metadata": {
    "scrolled": true,
    "slideshow": {
     "slide_type": "fragment"
    }
   },
   "outputs": [
    {
     "data": {
      "image/png": "[encoded data removed]",
      "text/plain": [
       "<Figure size 1440x2880 with 1 Axes>"
      ]
     },
     "metadata": {
      "needs_background": "light"
     },
     "output_type": "display_data"
    }
   ],
   "source": [
    "ax = df.groupby('state')[['total_day_minutes', 'total_eve_minutes', 'total_night_minutes']].mean().plot(kind='barh', figsize=(20, 40))\n",
    "plt.xlabel('average call duration for each period of time per state')\n",
    "plt.ylabel('state')\n",
    "fig = ax.get_figure()\n",
    "fig.savefig(r'C:\\Users\\kaban\\Desktop\\Ass_#4\\fig7.png')"
   ]
  },
  {
   "cell_type": "markdown",
   "metadata": {
    "slideshow": {
     "slide_type": "subslide"
    }
   },
   "source": [
    "### total day minutes and charge (day, eve and night) for each customer(per record)."
   ]
  },
  {
   "cell_type": "code",
   "execution_count": 23,
   "metadata": {
    "slideshow": {
     "slide_type": "slide"
    }
   },
   "outputs": [],
   "source": [
    "df['all_day_mins'] = df['total_day_minutes'] + df['total_eve_minutes'] + df['total_night_minutes']"
   ]
  },
  {
   "cell_type": "code",
   "execution_count": 24,
   "metadata": {
    "slideshow": {
     "slide_type": "slide"
    }
   },
   "outputs": [],
   "source": [
    "df['all_day_charge'] = df['total_day_charge'] + df['total_eve_charge'] + df['total_night_charge']"
   ]
  },
  {
   "cell_type": "code",
   "execution_count": 25,
   "metadata": {
    "slideshow": {
     "slide_type": "fragment"
    }
   },
   "outputs": [
    {
     "data": {
      "text/plain": [
       "['state',\n",
       " 'account_length',\n",
       " 'area_code',\n",
       " 'phone_number',\n",
       " 'intl_plan',\n",
       " 'voice_mail_plan',\n",
       " 'number_vmail_messages',\n",
       " 'total_day_minutes',\n",
       " 'total_day_calls',\n",
       " 'total_day_charge',\n",
       " 'total_eve_minutes',\n",
       " 'total_eve_calls',\n",
       " 'total_eve_charge',\n",
       " 'total_night_minutes',\n",
       " 'total_night_calls',\n",
       " 'total_night_charge',\n",
       " 'total_intl_minutes',\n",
       " 'total_intl_calls',\n",
       " 'total_intl_charge',\n",
       " 'number_customer_service_calls',\n",
       " 'churned',\n",
       " 'all_day_mins',\n",
       " 'all_day_charge']"
      ]
     },
     "execution_count": 25,
     "metadata": {},
     "output_type": "execute_result"
    }
   ],
   "source": [
    "list(df.columns)"
   ]
  },
  {
   "cell_type": "markdown",
   "metadata": {
    "slideshow": {
     "slide_type": "subslide"
    }
   },
   "source": [
    "#### to visualize the distribution of these continous variable."
   ]
  },
  {
   "cell_type": "code",
   "execution_count": 26,
   "metadata": {
    "slideshow": {
     "slide_type": "fragment"
    }
   },
   "outputs": [
    {
     "data": {
      "text/plain": [
       "<AxesSubplot:ylabel='Frequency'>"
      ]
     },
     "execution_count": 26,
     "metadata": {},
     "output_type": "execute_result"
    },
    {
     "data": {
      "image/png": "[encoded data removed]",
      "text/plain": [
       "<Figure size 432x288 with 1 Axes>"
      ]
     },
     "metadata": {
      "needs_background": "light"
     },
     "output_type": "display_data"
    }
   ],
   "source": [
    "df.all_day_mins.plot(kind='hist')"
   ]
  },
  {
   "cell_type": "code",
   "execution_count": 27,
   "metadata": {
    "slideshow": {
     "slide_type": "fragment"
    }
   },
   "outputs": [
    {
     "data": {
      "text/plain": [
       "<AxesSubplot:ylabel='Frequency'>"
      ]
     },
     "execution_count": 27,
     "metadata": {},
     "output_type": "execute_result"
    },
    {
     "data": {
      "image/png": "[encoded data removed]",
      "text/plain": [
       "<Figure size 432x288 with 1 Axes>"
      ]
     },
     "metadata": {
      "needs_background": "light"
     },
     "output_type": "display_data"
    }
   ],
   "source": [
    "df.all_day_charge.plot(kind='hist')"
   ]
  },
  {
   "cell_type": "code",
   "execution_count": 28,
   "metadata": {
    "slideshow": {
     "slide_type": "subslide"
    }
   },
   "outputs": [],
   "source": [
    "### Symmetric data!"
   ]
  },
  {
   "cell_type": "code",
   "execution_count": null,
   "metadata": {},
   "outputs": [],
   "source": []
  }
 ],
 "metadata": {
  "celltoolbar": "Slideshow",
  "kernelspec": {
   "display_name": "Python 3",
   "language": "python",
   "name": "python3"
  },
  "language_info": {
   "codemirror_mode": {
    "name": "ipython",
    "version": 3
   },
   "file_extension": ".py",
   "mimetype": "text/x-python",
   "name": "python",
   "nbconvert_exporter": "python",
   "pygments_lexer": "ipython3",
   "version": "3.8.5"
  }
 },
 "nbformat": 4,
 "nbformat_minor": 4
}
